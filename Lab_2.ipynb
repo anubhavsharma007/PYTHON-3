{
 "cells": [
  {
   "cell_type": "markdown",
   "metadata": {},
   "source": [
    "## LAB 02\n"
   ]
  },
  {
   "cell_type": "markdown",
   "metadata": {},
   "source": [
    "1. To check whether the given number is odd or even"
   ]
  },
  {
   "cell_type": "code",
   "execution_count": 1,
   "metadata": {},
   "outputs": [
    {
     "name": "stdout",
     "output_type": "stream",
     "text": [
      "Enter a number :\n",
      "7\n",
      "Odd number\n"
     ]
    }
   ],
   "source": [
    "print(\"Enter a number :\")\n",
    "n = int(input())\n",
    "if(n%2 ==0):\n",
    "    print(\"Even number\")\n",
    "else : print(\"Odd number\")"
   ]
  },
  {
   "cell_type": "markdown",
   "metadata": {},
   "source": [
    "2. Check whether an entered year is leap year or not.\n",
    "    \n"
   ]
  },
  {
   "cell_type": "code",
   "execution_count": 2,
   "metadata": {},
   "outputs": [
    {
     "name": "stdout",
     "output_type": "stream",
     "text": [
      "Enter a year :\n",
      "2002\n",
      "Not a leap year\n"
     ]
    }
   ],
   "source": [
    "print(\"Enter a year :\")\n",
    "n = int(input())\n",
    "if(n%4 ==0):\n",
    "    print(\"Leap year\")\n",
    "else : print(\"Not a leap year\")"
   ]
  },
  {
   "cell_type": "markdown",
   "metadata": {},
   "source": [
    "3. Write a program to check whether a character is vowel or consonants.\n"
   ]
  },
  {
   "cell_type": "code",
   "execution_count": 4,
   "metadata": {},
   "outputs": [
    {
     "name": "stdout",
     "output_type": "stream",
     "text": [
      "Enter a input :\n",
      "t\n",
      "t  is a consonant\n"
     ]
    }
   ],
   "source": [
    "print(\"Enter a input :\")\n",
    "ch = input()\n",
    "if(ch ==\"a\" or ch== \"A\" or ch==\"E\" or ch==\"e\" or ch== \"i\" or ch== \"I\" or ch==\"o\" or ch==\"O\" or ch==\"u\" or ch==\"U\"):\n",
    "    print(ch,\" is a vowel\")\n",
    "else : print(ch,\" is a consonant\")"
   ]
  },
  {
   "cell_type": "markdown",
   "metadata": {},
   "source": [
    "4. Write a program to find the smallest of two numbers.\n"
   ]
  },
  {
   "cell_type": "code",
   "execution_count": 5,
   "metadata": {},
   "outputs": [
    {
     "name": "stdout",
     "output_type": "stream",
     "text": [
      "Enter a Two numbers :\n",
      "5\n",
      "3\n",
      "5 is greater\n"
     ]
    }
   ],
   "source": [
    "print(\"Enter a Two numbers :\")\n",
    "a = int(input())\n",
    "b = int(input())\n",
    "if(b>a):\n",
    "    print(b,\"is greater\")\n",
    "else : print(a,\"is greater\")"
   ]
  },
  {
   "cell_type": "markdown",
   "metadata": {},
   "source": [
    "5. Find the Factorial of a Number\n"
   ]
  },
  {
   "cell_type": "code",
   "execution_count": 7,
   "metadata": {},
   "outputs": [
    {
     "name": "stdout",
     "output_type": "stream",
     "text": [
      "Enter a number to find factorial :\n",
      "10\n",
      "The factorial of 10 is 3628800\n"
     ]
    }
   ],
   "source": [
    "i =0\n",
    "fact=1\n",
    "print(\"Enter a number to find factorial :\")\n",
    "a = int(input())\n",
    "for i in range(1, a+1) :\n",
    "     fact = fact * i\n",
    "\n",
    "print(\"The factorial of\", a, \"is\" ,fact)\n"
   ]
  },
  {
   "cell_type": "markdown",
   "metadata": {},
   "source": [
    "6. Write a program to print this patterns\n"
   ]
  },
  {
   "cell_type": "code",
   "execution_count": 8,
   "metadata": {},
   "outputs": [
    {
     "name": "stdout",
     "output_type": "stream",
     "text": [
      "Enter numnber of rows : 5\n",
      "    * \n",
      "\n",
      "   * * \n",
      "\n",
      "  * * * \n",
      "\n",
      " * * * * \n",
      "\n",
      "* * * * * \n",
      "\n"
     ]
    }
   ],
   "source": [
    "a = int(input(\"Enter numnber of rows : \"))\n",
    "for i in range(1,a+1):\n",
    "    print(\" \"*(a-i),end=\"\")\n",
    "    for j in range(0,i):\n",
    "        print(\"*\",end=\" \")\n",
    "    print(\"\\n\")"
   ]
  },
  {
   "cell_type": "markdown",
   "metadata": {},
   "source": [
    "7. Write a program to print this series\n",
    "             1 1 2 3 5 8 13 \n"
   ]
  },
  {
   "cell_type": "code",
   "execution_count": 8,
   "metadata": {},
   "outputs": [
    {
     "name": "stdout",
     "output_type": "stream",
     "text": [
      "Enter a number:\n",
      "6\n",
      "1\n",
      "2\n",
      "3\n",
      "5\n",
      "8\n"
     ]
    }
   ],
   "source": [
    "i =0\n",
    "n1=0\n",
    "n2 = 1\n",
    "n3 = n1+n2\n",
    "print(\"Enter a number:\")\n",
    "y = int(input())\n",
    "for i in range(1, y) :\n",
    "    n3 = n1+n2\n",
    "    print(n3)\n",
    "    n1 = n2\n",
    "    n2 = n3\n"
   ]
  },
  {
   "cell_type": "markdown",
   "metadata": {},
   "source": [
    "8. Check whether a number is prime or not\n"
   ]
  },
  {
   "cell_type": "code",
   "execution_count": 10,
   "metadata": {},
   "outputs": [
    {
     "name": "stdout",
     "output_type": "stream",
     "text": [
      "Please enter the number: 5\n"
     ]
    }
   ],
   "source": [
    "x = int(input(\"Please enter the number: \"))\n",
    "\n",
    "if x > 1:\n",
    " for i in range(2,x//2):\n",
    "    if (x % i) == 0:\n",
    "         print(x,\"is not a prime number\")\n",
    "         break   \n",
    "    else:\n",
    "         print(x,\"is a prime number\")\n",
    "else:\n",
    "    print(x, \"is not a prime number\")\n"
   ]
  },
  {
   "cell_type": "markdown",
   "metadata": {},
   "source": [
    "9. Make a Simple Calculator"
   ]
  },
  {
   "cell_type": "code",
   "execution_count": 11,
   "metadata": {},
   "outputs": [
    {
     "name": "stdout",
     "output_type": "stream",
     "text": [
      "Enter a Two numbers :\n",
      "5\n",
      "6\n",
      "Enter choice from 1 - 4 :\n",
      "4\n",
      " Division of 5 and 6 is 1.2\n"
     ]
    }
   ],
   "source": [
    "add = 0\n",
    "diff = 0\n",
    "pdt = 0\n",
    "div = 0\n",
    "print(\"Enter a Two numbers :\")\n",
    "a = int(input())\n",
    "b = int(input())\n",
    "print(\"Enter choice from 1 - 4 :\")\n",
    "n = int(input())\n",
    "if(n == 1):\n",
    "    add = a+b\n",
    "    print(\" Sum of\",a,\"and\",b, \"is\",add)\n",
    "elif (n == 2):\n",
    "    diff = b-a\n",
    "    print(\" Difference of\",a,\"and\",b, \"is\",diff)\n",
    "elif (n == 3):\n",
    "    pdt = b * a\n",
    "    print(\" Product of\",a,\"and\",b, \"is\",pdt)\n",
    "elif (n == 4):\n",
    "    div = b/a\n",
    "    print(\" Division of\",a,\"and\",b, \"is\",div)\n",
    "else: print(\"INVALID INPUT\")\n",
    "        "
   ]
  }
 ],
 "metadata": {
  "kernelspec": {
   "display_name": "Python 3",
   "language": "python",
   "name": "python3"
  },
  "language_info": {
   "codemirror_mode": {
    "name": "ipython",
    "version": 3
   },
   "file_extension": ".py",
   "mimetype": "text/x-python",
   "name": "python",
   "nbconvert_exporter": "python",
   "pygments_lexer": "ipython3",
   "version": "3.8.5"
  }
 },
 "nbformat": 4,
 "nbformat_minor": 4
}

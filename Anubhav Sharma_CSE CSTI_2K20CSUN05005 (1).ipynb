{
 "cells": [
  {
   "cell_type": "markdown",
   "metadata": {},
   "source": [
    "# Set-C"
   ]
  },
  {
   "cell_type": "markdown",
   "metadata": {},
   "source": [
    "## Theoretical Questions:\n",
    "\t\t\t             \n"
   ]
  },
  {
   "cell_type": "markdown",
   "metadata": {},
   "source": [
    " Ques-1 What is the syntax to call a constructor of a base class from child class."
   ]
  },
  {
   "cell_type": "code",
   "execution_count": 2,
   "metadata": {},
   "outputs": [],
   "source": [
    "class BaseClass(object):\n",
    "    def _init_(self, *args, **kwargs):\n",
    "        pass\n",
    "\n",
    "class ChildClass(BaseClass):\n",
    "    def _init_(self, *args, **kwargs):\n",
    "        super(ChildClass, self)._init_(*args, **kwargs)"
   ]
  },
  {
   "cell_type": "markdown",
   "metadata": {},
   "source": [
    " Ques-2 How is a class made as inherited class (syntax of child class)                                    \n"
   ]
  },
  {
   "cell_type": "raw",
   "metadata": {},
   "source": [
    "Python Inheritance Syntax\n",
    "class BaseClass:\n",
    "  Body of base class\n",
    "class DerivedClass(BaseClass):\n",
    "  Body of derived class"
   ]
  },
  {
   "cell_type": "markdown",
   "metadata": {},
   "source": [
    "Ques-3 Can a function return more than two values? Write return statement and the statement that accept these returned values\t\t\t"
   ]
  },
  {
   "cell_type": "markdown",
   "metadata": {},
   "source": [
    "In Python, you can return multiple values by simply return them separated by commas.\n",
    "As an example, define a function that returns a string and a number as follows: Just write each value after the return, separated by commas."
   ]
  },
  {
   "cell_type": "markdown",
   "metadata": {},
   "source": [
    " Ques-4 Print an element of a nested dictionary \t"
   ]
  },
  {
   "cell_type": "code",
   "execution_count": 12,
   "metadata": {},
   "outputs": [
    {
     "name": "stdout",
     "output_type": "stream",
     "text": [
      "Apple\n"
     ]
    }
   ],
   "source": [
    "a = {1: {'Fruit': 'Apple', 'Colour': 'Red'},\n",
    "          2: {'Fruit': 'Grapes', 'Colour': 'Green'}}\n",
    "\n",
    "print(a[1]['Fruit'])"
   ]
  },
  {
   "cell_type": "markdown",
   "metadata": {},
   "source": [
    "## Practical Questions:"
   ]
  },
  {
   "cell_type": "markdown",
   "metadata": {},
   "source": [
    "Ques-1 Write a program, which will find all such numbers between 1000 and 3000 (both included) such that each digit of the number is an even number.\n",
    "\n",
    "\n"
   ]
  },
  {
   "cell_type": "code",
   "execution_count": 7,
   "metadata": {},
   "outputs": [
    {
     "name": "stdout",
     "output_type": "stream",
     "text": [
      "2000,2001,2002,2003,2004,2005,2006,2007,2008,2009,2020,2021,2022,2023,2024,2025,2026,2027,2028,2029,2040,2041,2042,2043,2044,2045,2046,2047,2048,2049,2060,2061,2062,2063,2064,2065,2066,2067,2068,2069,2080,2081,2082,2083,2084,2085,2086,2087,2088,2089,2200,2201,2202,2203,2204,2205,2206,2207,2208,2209,2220,2221,2222,2223,2224,2225,2226,2227,2228,2229,2240,2241,2242,2243,2244,2245,2246,2247,2248,2249,2260,2261,2262,2263,2264,2265,2266,2267,2268,2269,2280,2281,2282,2283,2284,2285,2286,2287,2288,2289,2400,2401,2402,2403,2404,2405,2406,2407,2408,2409,2420,2421,2422,2423,2424,2425,2426,2427,2428,2429,2440,2441,2442,2443,2444,2445,2446,2447,2448,2449,2460,2461,2462,2463,2464,2465,2466,2467,2468,2469,2480,2481,2482,2483,2484,2485,2486,2487,2488,2489,2600,2601,2602,2603,2604,2605,2606,2607,2608,2609,2620,2621,2622,2623,2624,2625,2626,2627,2628,2629,2640,2641,2642,2643,2644,2645,2646,2647,2648,2649,2660,2661,2662,2663,2664,2665,2666,2667,2668,2669,2680,2681,2682,2683,2684,2685,2686,2687,2688,2689,2800,2801,2802,2803,2804,2805,2806,2807,2808,2809,2820,2821,2822,2823,2824,2825,2826,2827,2828,2829,2840,2841,2842,2843,2844,2845,2846,2847,2848,2849,2860,2861,2862,2863,2864,2865,2866,2867,2868,2869,2880,2881,2882,2883,2884,2885,2886,2887,2888,2889\n"
     ]
    }
   ],
   "source": [
    "items = []\n",
    "for i in range(1000, 3000):\n",
    "    s = str(i)\n",
    "    if (int(s[0])%2==0) and (int(s[1])%2==0) and (int(s[2])%2==0):\n",
    "        items.append(s)\n",
    "print( \",\".join(items))"
   ]
  },
  {
   "cell_type": "markdown",
   "metadata": {},
   "source": [
    "Ques-2 Define a function that can receive two integral numbers in string form and compute their sum and then print it in console."
   ]
  },
  {
   "cell_type": "code",
   "execution_count": 10,
   "metadata": {},
   "outputs": [
    {
     "name": "stdout",
     "output_type": "stream",
     "text": [
      "Sum =  30\n"
     ]
    }
   ],
   "source": [
    "def calculateSum (a,b):\n",
    "\ts = int(a) + int(b)\n",
    "\treturn s \n",
    "\n",
    "# Main code \n",
    "# take two integral numbers as strings\n",
    "num1 = \"10\"\n",
    "num2 = \"20\"\n",
    "\n",
    "# calculate sum\n",
    "sum = calculateSum (num1, num2)\n",
    "\n",
    "# print sum\n",
    "print(\"Sum = \", sum)"
   ]
  },
  {
   "cell_type": "markdown",
   "metadata": {},
   "source": [
    "\n",
    "Ques-3 Define a class Person and its two child classes: Male and Female. All classes have a method \"getGender\" which can print \"Male\" for Male class and \"Female\" for Female class."
   ]
  },
  {
   "cell_type": "code",
   "execution_count": 8,
   "metadata": {},
   "outputs": [
    {
     "name": "stdout",
     "output_type": "stream",
     "text": [
      "Male\n",
      "Female\n"
     ]
    }
   ],
   "source": [
    "class Person(object):\n",
    "    def getGender( self ):\n",
    "        return \"Unknown\"\n",
    "\n",
    "class Male( Person ):\n",
    "    def getGender( self ):\n",
    "        return \"Male\"\n",
    "\n",
    "class Female( Person ):\n",
    "    def getGender( self ):\n",
    "        return \"Female\"\n",
    "\n",
    "aMale = Male()\n",
    "aFemale= Female()\n",
    "print(aMale.getGender())\n",
    "print(aFemale.getGender())"
   ]
  }
 ],
 "metadata": {
  "kernelspec": {
   "display_name": "Python 3",
   "language": "python",
   "name": "python3"
  },
  "language_info": {
   "codemirror_mode": {
    "name": "ipython",
    "version": 3
   },
   "file_extension": ".py",
   "mimetype": "text/x-python",
   "name": "python",
   "nbconvert_exporter": "python",
   "pygments_lexer": "ipython3",
   "version": "3.8.5"
  }
 },
 "nbformat": 4,
 "nbformat_minor": 4
}

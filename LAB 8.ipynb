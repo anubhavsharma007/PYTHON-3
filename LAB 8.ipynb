{
 "cells": [
  {
   "cell_type": "markdown",
   "metadata": {},
   "source": [
    "# LAB 8"
   ]
  },
  {
   "cell_type": "markdown",
   "metadata": {},
   "source": [
    "# UML, Object-Oriented Programming"
   ]
  },
  {
   "cell_type": "markdown",
   "metadata": {},
   "source": [
    "Q1.Write a Python program that create a class tringle and define two methods, create_triangle() and print_sides()."
   ]
  },
  {
   "cell_type": "code",
   "execution_count": 1,
   "metadata": {},
   "outputs": [
    {
     "name": "stdout",
     "output_type": "stream",
     "text": [
      "5\n",
      "5\n",
      "5\n",
      "None\n",
      "                         * \n",
      "                        * * \n",
      "                       * * * \n",
      "                      * * * * \n",
      "                     * * * * * \n",
      "                    * * * * * * \n",
      "                   * * * * * * * \n",
      "                  * * * * * * * * \n",
      "                 * * * * * * * * * \n",
      "                * * * * * * * * * * \n",
      "               * * * * * * * * * * * \n",
      "              * * * * * * * * * * * * \n",
      "             * * * * * * * * * * * * * \n",
      "            * * * * * * * * * * * * * * \n",
      "None\n"
     ]
    }
   ],
   "source": [
    "class triangle:\n",
    "    def __init__(side,a,b,c):\n",
    "        side.a = a\n",
    "        side.b = b\n",
    "        side.c = c\n",
    "    def print_sides(side):\n",
    "        print(side.a)\n",
    "        print(side.b)\n",
    "        print(side.c)\n",
    "    def create_triangle(side):\n",
    "        n=25\n",
    "        for i in range(1, 15):\n",
    "            print(' '*n, end='') \n",
    "            print('* '*(i))\n",
    "            n-=1\n",
    "ntriangle = triangle(5,5,5)        \n",
    "            \n",
    "print(ntriangle.print_sides())\n",
    "print(ntriangle.create_triangle())"
   ]
  },
  {
   "cell_type": "markdown",
   "metadata": {},
   "source": [
    "Q2.Write a Python program to create a class with two methods get_String() and print_String()."
   ]
  },
  {
   "cell_type": "code",
   "execution_count": 2,
   "metadata": {},
   "outputs": [
    {
     "name": "stdout",
     "output_type": "stream",
     "text": [
      "anubhav\n",
      "ANUBHAV\n"
     ]
    }
   ],
   "source": [
    "class IOString():\n",
    "    def __init__(self):\n",
    "        self.str1 = \"\"\n",
    "\n",
    "    def get_String(self):\n",
    "        self.str1 = input()\n",
    "\n",
    "    def print_String(self):\n",
    "        print(self.str1.upper())\n",
    "\n",
    "str1 = IOString()\n",
    "str1.get_String()\n",
    "str1.print_String()"
   ]
  },
  {
   "cell_type": "markdown",
   "metadata": {},
   "source": [
    "Q3.Write a Python program to create a class Rectangle that takes the parameter length and width. The class should also contain a method for computing its perimeter."
   ]
  },
  {
   "cell_type": "code",
   "execution_count": 4,
   "metadata": {},
   "outputs": [
    {
     "name": "stdout",
     "output_type": "stream",
     "text": [
      "58\n"
     ]
    }
   ],
   "source": [
    "class Rectangle():\n",
    "    def __init__(self, l, w):\n",
    "        self.length = l\n",
    "        self.width  = w\n",
    "\n",
    "    def rectangle_perimeter(self):\n",
    "        return 2*(self.length+self.width)\n",
    "\n",
    "newRectangle = Rectangle(12, 17)\n",
    "print(newRectangle.rectangle_perimeter())"
   ]
  },
  {
   "cell_type": "markdown",
   "metadata": {},
   "source": [
    "Q4. Write a Python program to create a class Circle that takes the parameter radius. The class should also contain two methods for computing its area & perimeter respectively. Use constructor to implement initialization of parameters"
   ]
  },
  {
   "cell_type": "code",
   "execution_count": 5,
   "metadata": {},
   "outputs": [
    {
     "name": "stdout",
     "output_type": "stream",
     "text": [
      "615.44\n",
      "87.92\n"
     ]
    }
   ],
   "source": [
    "class Circle():\n",
    "    def __init__(self, r):\n",
    "        self.radius = r\n",
    "\n",
    "    def area(self):\n",
    "        return self.radius**2*3.14\n",
    "    \n",
    "    def perimeter(self):\n",
    "        return 2*self.radius*3.14\n",
    "\n",
    "NewCircle = Circle(14)\n",
    "print(NewCircle.area())\n",
    "print(NewCircle.perimeter())"
   ]
  },
  {
   "cell_type": "markdown",
   "metadata": {},
   "source": [
    "Q5.Create a Circle class and initialize it with radius. Make two methods getArea and getCircumference inside this class."
   ]
  },
  {
   "cell_type": "code",
   "execution_count": 10,
   "metadata": {},
   "outputs": [
    {
     "name": "stdout",
     "output_type": "stream",
     "text": [
      "Enter radius of circle: 7\n",
      "Area of circle: 153.94\n",
      "Perimeter of circle: 43.98\n"
     ]
    }
   ],
   "source": [
    "import math\n",
    "class Circle:\n",
    "    def __init__(self, radius):\n",
    "        self.radius = radius\n",
    "    def area(self):\n",
    "        return math.pi * (self.radius ** 2)\n",
    "    def perimeter(self):\n",
    "        return 2 * math.pi * self.radius\n",
    "r = int(input(\"Enter radius of circle: \"))\n",
    "obj = Circle(r)\n",
    "print(\"Area of circle:\", round(obj.area(), 2))\n",
    "print(\"Perimeter of circle:\", round(obj.perimeter(), 2))"
   ]
  },
  {
   "cell_type": "markdown",
   "metadata": {},
   "source": [
    "Q6. Create a Temperature class. Make two methods:\n",
    "a)\tconvertFahrenheit - It will take Celsius and will print it into Fahrenheit.\n",
    "b)\tconvertCelsius - It will take Fahrenheit and will convert it into Celsius.\n"
   ]
  },
  {
   "cell_type": "code",
   "execution_count": 2,
   "metadata": {},
   "outputs": [
    {
     "name": "stdout",
     "output_type": "stream",
     "text": [
      "Input the  temperature you like to convert: 37F\n",
      "The temperature in Celsius is 3 degrees.\n"
     ]
    }
   ],
   "source": [
    "temp = input(\"Input the  temperature you like to convert: \")\n",
    "degree = int(temp[:-1])\n",
    "i_convention = temp[-1]\n",
    "\n",
    "if i_convention.upper() == \"C\":\n",
    "  result = int(round((9 * degree) / 5 + 32))\n",
    "  o_convention = \"Fahrenheit\"\n",
    "elif i_convention.upper() == \"F\":\n",
    "  result = int(round((degree - 32) * 5 / 9))\n",
    "  o_convention = \"Celsius\"\n",
    "else:\n",
    "  print(\"Input proper convention.\")\n",
    "  quit()\n",
    "print(\"The temperature in\", o_convention, \"is\", result, \"degrees.\")"
   ]
  },
  {
   "cell_type": "markdown",
   "metadata": {},
   "source": [
    "Q7. Create a Student class and initialize it with name and roll number. Make methods to:\n",
    "1. Display - It should display all information’s of the student.\n",
    "2. setAge - It should assign age to student\n",
    "3. setMarks - It should assign marks to the student.\n"
   ]
  },
  {
   "cell_type": "code",
   "execution_count": 17,
   "metadata": {},
   "outputs": [
    {
     "name": "stdout",
     "output_type": "stream",
     "text": [
      "Name of the student :  ANUBHAV\n",
      "Roll no of the student :  19\n",
      "None\n",
      "Enter the class of the student :ANUBHAV SHARMA\n",
      "ANUBHAV SHARMA\n",
      "Enter the marks in english :98\n",
      "Enter the marks in maths :45\n",
      "Enter the marks in science :89\n",
      "The marks of  ANUBHAV in english,maths,science are : 98 45 89\n",
      "None\n"
     ]
    }
   ],
   "source": [
    "class student:\n",
    "    def __init__(self,name,roll_no):\n",
    "        self.name = name\n",
    "        self.roll_no = roll_no\n",
    "    def display(self):\n",
    "        print(\"Name of the student : \",self.name)\n",
    "        print(\"Roll no of the student : \",self.roll_no)\n",
    "   \n",
    "    def setAge(self):\n",
    "        x = input(\"Enter the class of the student :\")\n",
    "        return x\n",
    "    def setMarks(self):\n",
    "        a = input(\"Enter the marks in english :\")\n",
    "        b = input(\"Enter the marks in maths :\")\n",
    "        c = input(\"Enter the marks in science :\")\n",
    "        z = print(\"The marks of \",self.name, \"in english,maths,science are :\",a,b,c)\n",
    "        return z\n",
    "\n",
    "\n",
    "profile = student(\"ANUBHAV\",19)\n",
    "    \n",
    "print(profile.display())\n",
    "print(profile.setAge())\n",
    "print(profile.setMarks())"
   ]
  },
  {
   "cell_type": "markdown",
   "metadata": {},
   "source": [
    "Q8. Write a Python class to reverse a string word by word."
   ]
  },
  {
   "cell_type": "code",
   "execution_count": 18,
   "metadata": {},
   "outputs": [
    {
     "name": "stdout",
     "output_type": "stream",
     "text": [
      "SHARMA ANUBHAV\n"
     ]
    }
   ],
   "source": [
    "class py_solution:\n",
    "    def reverse_words(self, s):\n",
    "        return ' '.join(reversed(s.split()))\n",
    "\n",
    "\n",
    "print(py_solution().reverse_words('ANUBHAV SHARMA'))"
   ]
  },
  {
   "cell_type": "code",
   "execution_count": null,
   "metadata": {},
   "outputs": [],
   "source": []
  }
 ],
 "metadata": {
  "kernelspec": {
   "display_name": "Python 3",
   "language": "python",
   "name": "python3"
  }
 },
 "nbformat": 4,
 "nbformat_minor": 4
}

{
 "cells": [
  {
   "cell_type": "markdown",
   "metadata": {},
   "source": [
    "# PYTHON MINI PROJECT"
   ]
  },
  {
   "cell_type": "markdown",
   "metadata": {},
   "source": [
    "# TEAM CHOOSER"
   ]
  },
  {
   "cell_type": "code",
   "execution_count": 2,
   "metadata": {},
   "outputs": [
    {
     "name": "stdout",
     "output_type": "stream",
     "text": [
      "Players: ['ANUBHAV SHARMA ', 'PRATEEK NARWAL', 'DIPESH YADAV', 'RAM']\n",
      "Team names: ['MUMBAI INDIANS', 'RCB']\n",
      "\n",
      "Here are your teams:\n",
      "\n",
      "MUMBAI INDIANS ['ANUBHAV SHARMA ', 'RAM']\n",
      "RCB ['DIPESH YADAV', 'PRATEEK NARWAL']\n"
     ]
    }
   ],
   "source": [
    "from random import choice\n",
    "\n",
    "#create a list of players from a file\n",
    "players = []\n",
    "file = open('players.txt', 'r')\n",
    "players = file.read().splitlines()\n",
    "print('Players:', players)\n",
    "\n",
    "#create a list of team names from a file\n",
    "teamNames = []\n",
    "file = open('teamNames.txt', 'r')\n",
    "teamNames = file.read().splitlines()\n",
    "print('Team names:', teamNames)\n",
    "\n",
    "#create empty team lists\n",
    "teamA = []\n",
    "teamB = []\n",
    "\n",
    "#loop until there are no players left\n",
    "while len(players) > 0:\n",
    "  \n",
    "  #choose a random player for team A\n",
    "  playerA = choice(players)\n",
    "  teamA.append(playerA)\n",
    "  #remove the player from the players list\n",
    "  players.remove(playerA)\n",
    "  \n",
    "  #break out of the loop if there are no players left\n",
    "  if players == []: \n",
    "    break\n",
    "  \n",
    "  #choose a random player for team B\n",
    "  playerB = choice(players)\n",
    "  teamB.append(playerB)\n",
    "  #remove the player from the players list\n",
    "  players.remove(playerB)\n",
    "\n",
    "#choose random team names for the 2 teams\n",
    "teamNameA = choice(teamNames)\n",
    "teamNames.remove(teamNameA)\n",
    "teamNameB = choice(teamNames)\n",
    "teamNames.remove(teamNameB)\n",
    "\n",
    "#print the teams\n",
    "print('\\nHere are your teams:\\n')\n",
    "print(teamNameA, teamA)\n",
    "print(teamNameB, teamB)"
   ]
  },
  {
   "cell_type": "code",
   "execution_count": null,
   "metadata": {},
   "outputs": [],
   "source": []
  }
 ],
 "metadata": {
  "kernelspec": {
   "display_name": "Python 3",
   "language": "python",
   "name": "python3"
  },
  "language_info": {
   "codemirror_mode": {
    "name": "ipython",
    "version": 3
   },
   "file_extension": ".py",
   "mimetype": "text/x-python",
   "name": "python",
   "nbconvert_exporter": "python",
   "pygments_lexer": "ipython3",
   "version": "3.8.5"
  }
 },
 "nbformat": 4,
 "nbformat_minor": 4
}

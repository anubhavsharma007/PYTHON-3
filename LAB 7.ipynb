{
 "cells": [
  {
   "cell_type": "markdown",
   "metadata": {},
   "source": [
    "# LAB 7"
   ]
  },
  {
   "cell_type": "markdown",
   "metadata": {},
   "source": [
    "# Function- Pass by reference: hands-on practice"
   ]
  },
  {
   "cell_type": "markdown",
   "metadata": {},
   "source": [
    "Q1. Write a program to multiply two numbers using functions."
   ]
  },
  {
   "cell_type": "code",
   "execution_count": 2,
   "metadata": {},
   "outputs": [
    {
     "name": "stdout",
     "output_type": "stream",
     "text": [
      "input the number one: 23\n",
      "input the number one: 7\n",
      "The product is 161\n"
     ]
    }
   ],
   "source": [
    "def add_num(a,b):\n",
    "    multiply=a*b;\n",
    "    return multiply;\n",
    "num1=int(input(\"input the number one: \"))\n",
    "num2=int(input(\"input the number one: \"))\n",
    "print(\"The product is\",add_num(num1,num2))"
   ]
  },
  {
   "cell_type": "markdown",
   "metadata": {},
   "source": [
    "Q2.Write a program to add two numbers using functions."
   ]
  },
  {
   "cell_type": "code",
   "execution_count": 3,
   "metadata": {},
   "outputs": [
    {
     "name": "stdout",
     "output_type": "stream",
     "text": [
      "input the number one: 45\n",
      "input the number one :35\n",
      "The sum is 80\n"
     ]
    }
   ],
   "source": [
    "def add_num(a,b):\n",
    "    sum=a+b;\n",
    "    return sum; \n",
    "num1=int(input(\"input the number one: \"))\n",
    "num2=int(input(\"input the number one :\"))\n",
    "print(\"The sum is\",add_num(num1,num2))"
   ]
  },
  {
   "cell_type": "markdown",
   "metadata": {},
   "source": [
    "Q3.Calculate factorial of a number using function."
   ]
  },
  {
   "cell_type": "code",
   "execution_count": 4,
   "metadata": {},
   "outputs": [
    {
     "name": "stdout",
     "output_type": "stream",
     "text": [
      "Please enter any number to find factorial: 7\n",
      "The factorial of 7 = 5040\n"
     ]
    }
   ],
   "source": [
    "def factorial(num):\n",
    "    fact=1\n",
    "    for i in range(1, num+1):\n",
    "        fact=fact*i\n",
    "    return fact    \n",
    "number=int(input(\"Please enter any number to find factorial: \"))\n",
    "result=factorial(number)\n",
    "print(\"The factorial of %d = %d\"%(number,result))"
   ]
  },
  {
   "cell_type": "markdown",
   "metadata": {},
   "source": [
    "Q4.Create sequence of Fibonacci using function."
   ]
  },
  {
   "cell_type": "code",
   "execution_count": 5,
   "metadata": {},
   "outputs": [
    {
     "name": "stdout",
     "output_type": "stream",
     "text": [
      "How many terms? 13\n",
      "Fibonacci sequence:\n",
      "0\n",
      "1\n",
      "1\n",
      "2\n",
      "3\n",
      "5\n",
      "8\n",
      "13\n",
      "21\n",
      "34\n",
      "55\n",
      "89\n",
      "144\n"
     ]
    }
   ],
   "source": [
    "def Fibonacci(n):  \n",
    "   if n <= 1:  \n",
    "       return n  \n",
    "   else:  \n",
    "       return(Fibonacci(n-1) + Fibonacci(n-2))   \n",
    "nterms = int(input(\"How many terms? \"))  \n",
    "if nterms <= 0:  \n",
    "   print(\"Plese enter a positive integer\")  \n",
    "else:  \n",
    "   print(\"Fibonacci sequence:\")  \n",
    "   for i in range(nterms):  \n",
    "       print(Fibonacci(i))  "
   ]
  },
  {
   "cell_type": "markdown",
   "metadata": {},
   "source": [
    "Q5.Write a program to swapping of two numbers using functions."
   ]
  },
  {
   "cell_type": "code",
   "execution_count": 6,
   "metadata": {},
   "outputs": [
    {
     "name": "stdout",
     "output_type": "stream",
     "text": [
      " Please Enter the First Value : 45\n",
      " Please Enter the Second Value : 23\n",
      "Before Swapping two Number: num1 = 45.0 and num2 = 23.0\n",
      "After Swapping two Number: num1 = 23.0 and num2 = 45.0\n"
     ]
    }
   ],
   "source": [
    "def swap_numbers(a, b):\n",
    "    temp = a\n",
    "    a = b\n",
    "    b = temp\n",
    "    \n",
    "    print(\"After Swapping two Number: num1 = {0} and num2 = {1}\".format(a, b))\n",
    " \n",
    "num1 = float(input(\" Please Enter the First Value : \"))\n",
    "num2 = float(input(\" Please Enter the Second Value : \"))\n",
    "\n",
    "print(\"Before Swapping two Number: num1 = {0} and num2 = {1}\".format(num1, num2))\n",
    "swap_numbers(num1, num2)"
   ]
  },
  {
   "cell_type": "markdown",
   "metadata": {},
   "source": [
    "Q6.Write a function to find the HCF of some given numbers."
   ]
  },
  {
   "cell_type": "code",
   "execution_count": 7,
   "metadata": {},
   "outputs": [
    {
     "name": "stdout",
     "output_type": "stream",
     "text": [
      "ENTER FIRST NUMBER : 265\n",
      "ENTER SECOND NUMBER : 465\n",
      "THE HCF OF  265  AND  465  IS :  5\n"
     ]
    }
   ],
   "source": [
    "def calc_hcf(n1,n2):\n",
    "  if n1 > n2:\n",
    "    small = n2\n",
    "  else:\n",
    "    small = n1\n",
    "  for i in range(1,small + 1):\n",
    "    if((n1 % i == 0) and (n2 % i == 0)):\n",
    "      result = i\n",
    "  return result\n",
    "number1 = int(input(\"ENTER FIRST NUMBER : \"))\n",
    "number2 = int(input(\"ENTER SECOND NUMBER : \"))\n",
    "print(\"THE HCF OF \",number1,\" AND \",number2,\" IS : \",calc_hcf(number1, number2))"
   ]
  },
  {
   "cell_type": "markdown",
   "metadata": {},
   "source": [
    "Q7.Write a function to find the ASCII value of the character."
   ]
  },
  {
   "cell_type": "code",
   "execution_count": 8,
   "metadata": {},
   "outputs": [
    {
     "name": "stdout",
     "output_type": "stream",
     "text": [
      "Please enter any Character  :  ANUBHAV\n",
      "The ASCII Value = 65\n"
     ]
    }
   ],
   "source": [
    "ch = input(\"Please enter any Character  :  \")\n",
    "\n",
    "print(\"The ASCII Value = %d\" %ord(ch[0]))"
   ]
  },
  {
   "cell_type": "markdown",
   "metadata": {},
   "source": [
    "Q8.Write a program that demonstrates the (built in function) mathematical functions."
   ]
  },
  {
   "cell_type": "code",
   "execution_count": 9,
   "metadata": {},
   "outputs": [
    {
     "name": "stdout",
     "output_type": "stream",
     "text": [
      "The value of sin(45 degree): 0.7071067811865476\n"
     ]
    }
   ],
   "source": [
    "import math\n",
    "print(\"The value of sin(45 degree): \" + str(math.sin(math.radians(45))))"
   ]
  },
  {
   "cell_type": "markdown",
   "metadata": {},
   "source": [
    "9.Write a program that demonstrates the (built in function) Date & Time functions."
   ]
  },
  {
   "cell_type": "code",
   "execution_count": 14,
   "metadata": {},
   "outputs": [
    {
     "name": "stdout",
     "output_type": "stream",
     "text": [
      "2021-06-06 12:36:08.449619\n"
     ]
    }
   ],
   "source": [
    "import datetime\n",
    "x = datetime.datetime.now()\n",
    "print(x)"
   ]
  },
  {
   "cell_type": "markdown",
   "metadata": {},
   "source": [
    "10.Write a program that demonstrates Required arguments."
   ]
  },
  {
   "cell_type": "code",
   "execution_count": 15,
   "metadata": {},
   "outputs": [
    {
     "name": "stdout",
     "output_type": "stream",
     "text": [
      "Hello Anubhav Sharma, Good morning!\n"
     ]
    }
   ],
   "source": [
    "def greet(name, msg):\n",
    "    print(\"Hello\", name + ', ' + msg)\n",
    "greet(\"Anubhav Sharma\", \"Good morning!\")"
   ]
  },
  {
   "cell_type": "markdown",
   "metadata": {},
   "source": [
    "11.Write a program that demonstrates keyword arguments."
   ]
  },
  {
   "cell_type": "code",
   "execution_count": 17,
   "metadata": {},
   "outputs": [
    {
     "name": "stdout",
     "output_type": "stream",
     "text": [
      "Anubhav Sharma is working on Python\n"
     ]
    }
   ],
   "source": [
    "def team(name, project, members=None):\n",
    "    team.name= name\n",
    "    team.project= project\n",
    "    team.members= members\n",
    "    print(name, \"is working on\", project)\n",
    "    \n",
    "team(\"Anubhav Sharma\", project = \"Python\")\n"
   ]
  },
  {
   "cell_type": "markdown",
   "metadata": {},
   "source": [
    "12.Write a program that demonstrates Default arguments."
   ]
  },
  {
   "cell_type": "code",
   "execution_count": 21,
   "metadata": {},
   "outputs": [
    {
     "name": "stdout",
     "output_type": "stream",
     "text": [
      "Hi Anubhav\n"
     ]
    }
   ],
   "source": [
    "def greet(name, message='Hi'):\n",
    "    return f\"{message} {name}\"\n",
    "\n",
    "\n",
    "greeting = greet('Anubhav')\n",
    "print(greeting)"
   ]
  },
  {
   "cell_type": "markdown",
   "metadata": {},
   "source": [
    "13.Write a program that demonstrates Variable –length arguments."
   ]
  },
  {
   "cell_type": "code",
   "execution_count": 26,
   "metadata": {},
   "outputs": [
    {
     "data": {
      "text/plain": [
       "2"
      ]
     },
     "execution_count": 26,
     "metadata": {},
     "output_type": "execute_result"
    }
   ],
   "source": [
    "def my_min(*args):\n",
    "    result = args[0]\n",
    "    for num in args:\n",
    "        if num < result:\n",
    "            result = num\n",
    "    return result\n",
    "\n",
    "my_min(4, 5, 6, 7, 2)"
   ]
  }
 ],
 "metadata": {
  "kernelspec": {
   "display_name": "Python 3",
   "language": "python",
   "name": "python3"
  },
  "language_info": {
   "codemirror_mode": {
    "name": "ipython",
    "version": 3
   },
   "file_extension": ".py",
   "mimetype": "text/x-python",
   "name": "python",
   "nbconvert_exporter": "python",
   "pygments_lexer": "ipython3",
   "version": "3.8.5"
  }
 },
 "nbformat": 4,
 "nbformat_minor": 4
}
